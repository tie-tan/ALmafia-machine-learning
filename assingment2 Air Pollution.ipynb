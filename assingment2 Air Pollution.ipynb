{
 "cells": [
  {
   "cell_type": "code",
   "execution_count": 1,
   "metadata": {},
   "outputs": [],
   "source": [
    "import numpy as np\n",
    "import pandas as pd\n",
    "import matplotlib.pyplot as plt"
   ]
  },
  {
   "cell_type": "code",
   "execution_count": 10,
   "metadata": {},
   "outputs": [
    {
     "name": "stdout",
     "output_type": "stream",
     "text": [
      "      feature_1  feature_2  feature_3  feature_4  feature_5      target\n",
      "0      0.293416  -0.945599  -0.421105   0.406816   0.525662  -82.154667\n",
      "1     -0.836084  -0.189228  -0.776403  -1.053831   0.597997  -48.897960\n",
      "2      0.236425   0.132836  -0.147723   0.699854  -0.187364   77.270371\n",
      "3      0.175312   0.143194  -0.581111  -0.122107  -1.292168   -2.988581\n",
      "4     -1.693011   0.542712  -2.798729  -0.686723   1.244077  -37.596722\n",
      "...         ...        ...        ...        ...        ...         ...\n",
      "1595  -0.274961  -0.820634  -0.757173  -0.147555  -0.307149  -80.110012\n",
      "1596  -0.076099   0.255257   0.290054   1.796036   0.340350  118.315601\n",
      "1597   1.044177  -0.899206   1.730399  -1.871057   0.442520 -107.510508\n",
      "1598  -1.269173  -0.005052   1.857669  -1.080365   0.736334  -47.341558\n",
      "1599  -1.884000  -0.849427  -1.452270   0.488613   1.459576 -115.939003\n",
      "\n",
      "[1600 rows x 6 columns]\n"
     ]
    }
   ],
   "source": [
    "from sklearn.linear_model import LinearRegression\n",
    "df=pd.read_csv('.\\Downloads\\Train.csv')\n",
    "print(df)"
   ]
  },
  {
   "cell_type": "code",
   "execution_count": 11,
   "metadata": {},
   "outputs": [],
   "source": [
    "model=LinearRegression()"
   ]
  },
  {
   "cell_type": "code",
   "execution_count": 12,
   "metadata": {},
   "outputs": [],
   "source": [
    "x=pd.DataFrame(np.c_[df['feature_1'], df['feature_2'], df['feature_3'],  df['feature_4'], df['feature_5']], columns = ['feature_1', 'feature_2', 'feature_3', 'feature_4', 'feature_5'])\n",
    "y = df['target']\n"
   ]
  },
  {
   "cell_type": "code",
   "execution_count": 13,
   "metadata": {},
   "outputs": [
    {
     "data": {
      "text/plain": [
       "array([29.68187118, 92.66247759,  8.28062089, 44.76773522,  2.51916121])"
      ]
     },
     "execution_count": 13,
     "metadata": {},
     "output_type": "execute_result"
    }
   ],
   "source": [
    "model.fit(x,y)\n",
    "coeff=model.coef_\n",
    "coeff"
   ]
  },
  {
   "cell_type": "code",
   "execution_count": 14,
   "metadata": {},
   "outputs": [
    {
     "data": {
      "text/plain": [
       "4.990966735574963"
      ]
     },
     "execution_count": 14,
     "metadata": {},
     "output_type": "execute_result"
    }
   ],
   "source": [
    "bias=model.intercept_\n",
    "bias"
   ]
  },
  {
   "cell_type": "code",
   "execution_count": 15,
   "metadata": {},
   "outputs": [
    {
     "data": {
      "text/plain": [
       "0.9660939669975617"
      ]
     },
     "execution_count": 15,
     "metadata": {},
     "output_type": "execute_result"
    }
   ],
   "source": [
    "model.score(x,y)"
   ]
  },
  {
   "cell_type": "markdown",
   "metadata": {},
   "source": [
    "# without using sklearn"
   ]
  },
  {
   "cell_type": "code",
   "execution_count": 41,
   "metadata": {},
   "outputs": [
    {
     "name": "stdout",
     "output_type": "stream",
     "text": [
      "(6, 1600)\n",
      "[[ 0.29341624 -0.83608408  0.23642511 ...  1.04417694 -1.2691729\n",
      "  -1.88400025]\n",
      " [-0.94559871 -0.18922804  0.13283602 ... -0.89920649 -0.00505216\n",
      "  -0.84942743]\n",
      " [-0.42110515 -0.77640262 -0.14772298 ...  1.73039905  1.85766873\n",
      "  -1.45227035]\n",
      " [ 0.40681602 -1.05383124  0.69985396 ... -1.87105676 -1.08036482\n",
      "   0.48861308]\n",
      " [ 0.52566183  0.59799685 -0.18736416 ...  0.44251965  0.73633394\n",
      "   1.4595758 ]\n",
      " [ 1.          1.          1.         ...  1.          1.\n",
      "   1.        ]]\n",
      "(1600,)\n"
     ]
    }
   ],
   "source": [
    "df=pd.read_csv('.\\Downloads\\Train.csv')\n",
    "x1=df['feature_1'].values\n",
    "x2=df['feature_2'].values\n",
    "x3=df['feature_3'].values\n",
    "x4=df['feature_4'].values\n",
    "x5=df['feature_5'].values\n",
    "x6=np.ones((x5.shape[0],)).T\n",
    "x=np.vstack((x1,x2,x3,x4,x5,x6))\n",
    "print(x.shape)\n",
    "print(x)\n",
    "y=df['target'].values\n",
    "y.reshape((-1,))\n",
    "print(y.shape)"
   ]
  },
  {
   "cell_type": "code",
   "execution_count": 53,
   "metadata": {},
   "outputs": [],
   "source": [
    "def hypothesis(x,theta):\n",
    "    return np.dot(theta,x)"
   ]
  },
  {
   "cell_type": "code",
   "execution_count": 54,
   "metadata": {},
   "outputs": [],
   "source": [
    "def error(x,y,theta):\n",
    "    e=0\n",
    "    for i in range(x.shape[1]):\n",
    "        X=x[:,i]\n",
    "        e+=(hypothesis(X,theta)-y[i])**2\n",
    "    return e/(x.shape[1]*2)"
   ]
  },
  {
   "cell_type": "code",
   "execution_count": 55,
   "metadata": {},
   "outputs": [],
   "source": [
    "def grad(x,y,theta):\n",
    "    g=np.zeros(x.shape[0])\n",
    "    for i in range(x.shape[1]):\n",
    "        X=x[:,i]\n",
    "        for j in range(6):\n",
    "            g[j]+=(hypothesis(X,theta)-y[i])*x[j][i]\n",
    "    for i in range(6):\n",
    "        g[i]/=x.shape[1]\n",
    "    return g"
   ]
  },
  {
   "cell_type": "code",
   "execution_count": 56,
   "metadata": {},
   "outputs": [],
   "source": [
    "def grad_ascent(x,y,learning_rate=0.01):\n",
    "    err=[]\n",
    "    theta_list=[]\n",
    "    theta=np.zeros((6,))\n",
    "    for i in range(1000):\n",
    "        e=error(x,y,theta)\n",
    "        g=grad(x,y,theta)\n",
    "        for j in range(6):\n",
    "            theta[j]-=learning_rate*g[j]\n",
    "        err.append(e)\n",
    "        theta_list.append(theta)\n",
    "    return err,theta_list,theta"
   ]
  },
  {
   "cell_type": "code",
   "execution_count": 57,
   "metadata": {},
   "outputs": [
    {
     "data": {
      "image/png": "[encoded data removed]",
      "text/plain": [
       "<Figure size 432x288 with 1 Axes>"
      ]
     },
     "metadata": {
      "needs_background": "light"
     },
     "output_type": "display_data"
    }
   ],
   "source": [
    "e,t,final=grad_ascent(x,y)\n",
    "plt.plot(e)\n",
    "plt.show()"
   ]
  },
  {
   "cell_type": "code",
   "execution_count": 52,
   "metadata": {},
   "outputs": [
    {
     "name": "stdout",
     "output_type": "stream",
     "text": [
      "[29.67987527 92.65908015  8.27756078 44.76510038  2.51769725  4.98825521]\n"
     ]
    }
   ],
   "source": [
    "print(final)"
   ]
  },
  {
   "cell_type": "code",
   "execution_count": null,
   "metadata": {},
   "outputs": [],
   "source": []
  }
 ],
 "metadata": {
  "kernelspec": {
   "display_name": "Python 3",
   "language": "python",
   "name": "python3"
  },
  "language_info": {
   "codemirror_mode": {
    "name": "ipython",
    "version": 3
   },
   "file_extension": ".py",
   "mimetype": "text/x-python",
   "name": "python",
   "nbconvert_exporter": "python",
   "pygments_lexer": "ipython3",
   "version": "3.8.5"
  }
 },
 "nbformat": 4,
 "nbformat_minor": 4
}
